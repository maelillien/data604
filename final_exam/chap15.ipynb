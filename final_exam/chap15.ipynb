{
 "cells": [
  {
   "cell_type": "markdown",
   "metadata": {},
   "source": [
    "# Modeling and Simulation in Python\n",
    "\n",
    "Chapter 15\n",
    "\n",
    "Completed by: Mael Illien\n",
    "\n",
    "Copyright 2017 Allen Downey\n",
    "\n",
    "License: [Creative Commons Attribution 4.0 International](https://creativecommons.org/licenses/by/4.0)\n"
   ]
  },
  {
   "cell_type": "code",
   "execution_count": 1,
   "metadata": {},
   "outputs": [],
   "source": [
    "# Configure Jupyter so figures appear in the notebook\n",
    "%matplotlib inline\n",
    "\n",
    "# Configure Jupyter to display the assigned value after an assignment\n",
    "%config InteractiveShell.ast_node_interactivity='last_expr_or_assign'\n",
    "\n",
    "# import functions from the modsim.py module\n",
    "from modsim import *"
   ]
  },
  {
   "cell_type": "markdown",
   "metadata": {},
   "source": [
    "### The coffee cooling problem\n",
    "\n",
    "I'll use a `State` object to store the initial temperature.\n"
   ]
  },
  {
   "cell_type": "code",
   "execution_count": 2,
   "metadata": {},
   "outputs": [
    {
     "data": {
      "text/html": [
       "<div>\n",
       "<style scoped>\n",
       "    .dataframe tbody tr th:only-of-type {\n",
       "        vertical-align: middle;\n",
       "    }\n",
       "\n",
       "    .dataframe tbody tr th {\n",
       "        vertical-align: top;\n",
       "    }\n",
       "\n",
       "    .dataframe thead th {\n",
       "        text-align: right;\n",
       "    }\n",
       "</style>\n",
       "<table border=\"1\" class=\"dataframe\">\n",
       "  <thead>\n",
       "    <tr style=\"text-align: right;\">\n",
       "      <th></th>\n",
       "      <th>values</th>\n",
       "    </tr>\n",
       "  </thead>\n",
       "  <tbody>\n",
       "    <tr>\n",
       "      <th>T</th>\n",
       "      <td>90</td>\n",
       "    </tr>\n",
       "  </tbody>\n",
       "</table>\n",
       "</div>"
      ],
      "text/plain": [
       "T    90\n",
       "dtype: int64"
      ]
     },
     "execution_count": 2,
     "metadata": {},
     "output_type": "execute_result"
    }
   ],
   "source": [
    "init = State(T=90)"
   ]
  },
  {
   "cell_type": "markdown",
   "metadata": {},
   "source": [
    "And a `System` object to contain the system parameters."
   ]
  },
  {
   "cell_type": "code",
   "execution_count": 3,
   "metadata": {},
   "outputs": [
    {
     "data": {
      "text/html": [
       "<div>\n",
       "<style scoped>\n",
       "    .dataframe tbody tr th:only-of-type {\n",
       "        vertical-align: middle;\n",
       "    }\n",
       "\n",
       "    .dataframe tbody tr th {\n",
       "        vertical-align: top;\n",
       "    }\n",
       "\n",
       "    .dataframe thead th {\n",
       "        text-align: right;\n",
       "    }\n",
       "</style>\n",
       "<table border=\"1\" class=\"dataframe\">\n",
       "  <thead>\n",
       "    <tr style=\"text-align: right;\">\n",
       "      <th></th>\n",
       "      <th>values</th>\n",
       "    </tr>\n",
       "  </thead>\n",
       "  <tbody>\n",
       "    <tr>\n",
       "      <th>init</th>\n",
       "      <td>T    90\n",
       "dtype: int64</td>\n",
       "    </tr>\n",
       "    <tr>\n",
       "      <th>volume</th>\n",
       "      <td>300</td>\n",
       "    </tr>\n",
       "    <tr>\n",
       "      <th>r</th>\n",
       "      <td>0.01</td>\n",
       "    </tr>\n",
       "    <tr>\n",
       "      <th>T_env</th>\n",
       "      <td>22</td>\n",
       "    </tr>\n",
       "    <tr>\n",
       "      <th>t_0</th>\n",
       "      <td>0</td>\n",
       "    </tr>\n",
       "    <tr>\n",
       "      <th>t_end</th>\n",
       "      <td>30</td>\n",
       "    </tr>\n",
       "    <tr>\n",
       "      <th>dt</th>\n",
       "      <td>1</td>\n",
       "    </tr>\n",
       "  </tbody>\n",
       "</table>\n",
       "</div>"
      ],
      "text/plain": [
       "init      T    90\n",
       "dtype: int64\n",
       "volume                     300\n",
       "r                         0.01\n",
       "T_env                       22\n",
       "t_0                          0\n",
       "t_end                       30\n",
       "dt                           1\n",
       "dtype: object"
      ]
     },
     "execution_count": 3,
     "metadata": {},
     "output_type": "execute_result"
    }
   ],
   "source": [
    "coffee = System(init=init,\n",
    "                volume=300,\n",
    "                r=0.01,\n",
    "                T_env=22,\n",
    "                t_0=0,\n",
    "                t_end=30,\n",
    "                dt=1)"
   ]
  },
  {
   "cell_type": "markdown",
   "metadata": {},
   "source": [
    "The update function implements Newton's law of cooling."
   ]
  },
  {
   "cell_type": "code",
   "execution_count": 4,
   "metadata": {},
   "outputs": [],
   "source": [
    "def update_func(state, t, system):\n",
    "    \"\"\"Update the thermal transfer model.\n",
    "    \n",
    "    state: State (temp)\n",
    "    t: time\n",
    "    system: System object\n",
    "    \n",
    "    returns: State (temp)\n",
    "    \"\"\"\n",
    "    r, T_env, dt = system.r, system.T_env, system.dt\n",
    "    \n",
    "    T = state.T\n",
    "    T += -r * (T - T_env) * dt\n",
    "    \n",
    "    return State(T=T)"
   ]
  },
  {
   "cell_type": "markdown",
   "metadata": {},
   "source": [
    "Here's how it works."
   ]
  },
  {
   "cell_type": "code",
   "execution_count": 5,
   "metadata": {},
   "outputs": [
    {
     "data": {
      "text/html": [
       "<div>\n",
       "<style scoped>\n",
       "    .dataframe tbody tr th:only-of-type {\n",
       "        vertical-align: middle;\n",
       "    }\n",
       "\n",
       "    .dataframe tbody tr th {\n",
       "        vertical-align: top;\n",
       "    }\n",
       "\n",
       "    .dataframe thead th {\n",
       "        text-align: right;\n",
       "    }\n",
       "</style>\n",
       "<table border=\"1\" class=\"dataframe\">\n",
       "  <thead>\n",
       "    <tr style=\"text-align: right;\">\n",
       "      <th></th>\n",
       "      <th>values</th>\n",
       "    </tr>\n",
       "  </thead>\n",
       "  <tbody>\n",
       "    <tr>\n",
       "      <th>T</th>\n",
       "      <td>89.32</td>\n",
       "    </tr>\n",
       "  </tbody>\n",
       "</table>\n",
       "</div>"
      ],
      "text/plain": [
       "T    89.32\n",
       "dtype: float64"
      ]
     },
     "execution_count": 5,
     "metadata": {},
     "output_type": "execute_result"
    }
   ],
   "source": [
    "update_func(init, 0, coffee)"
   ]
  },
  {
   "cell_type": "markdown",
   "metadata": {},
   "source": [
    "Here's a version of `run_simulation` that uses `linrange` to make an array of time steps."
   ]
  },
  {
   "cell_type": "code",
   "execution_count": 6,
   "metadata": {},
   "outputs": [],
   "source": [
    "def run_simulation(system, update_func):\n",
    "    \"\"\"Runs a simulation of the system.\n",
    "    \n",
    "    Add a TimeFrame to the System: results\n",
    "    \n",
    "    system: System object\n",
    "    update_func: function that updates state\n",
    "    \"\"\"\n",
    "    init = system.init\n",
    "    t_0, t_end, dt = system.t_0, system.t_end, system.dt\n",
    "    \n",
    "    frame = TimeFrame(columns=init.index)\n",
    "    frame.row[t_0] = init\n",
    "    ts = linrange(t_0, t_end, dt)\n",
    "    \n",
    "    for t in ts:\n",
    "        frame.row[t+dt] = update_func(frame.row[t], t, system)\n",
    "    \n",
    "    return frame"
   ]
  },
  {
   "cell_type": "markdown",
   "metadata": {},
   "source": [
    "And here's how it works."
   ]
  },
  {
   "cell_type": "code",
   "execution_count": 7,
   "metadata": {},
   "outputs": [
    {
     "data": {
      "text/html": [
       "<div>\n",
       "<style scoped>\n",
       "    .dataframe tbody tr th:only-of-type {\n",
       "        vertical-align: middle;\n",
       "    }\n",
       "\n",
       "    .dataframe tbody tr th {\n",
       "        vertical-align: top;\n",
       "    }\n",
       "\n",
       "    .dataframe thead th {\n",
       "        text-align: right;\n",
       "    }\n",
       "</style>\n",
       "<table border=\"1\" class=\"dataframe\">\n",
       "  <thead>\n",
       "    <tr style=\"text-align: right;\">\n",
       "      <th></th>\n",
       "      <th>T</th>\n",
       "    </tr>\n",
       "  </thead>\n",
       "  <tbody>\n",
       "    <tr>\n",
       "      <th>0</th>\n",
       "      <td>90</td>\n",
       "    </tr>\n",
       "    <tr>\n",
       "      <th>1</th>\n",
       "      <td>89.32</td>\n",
       "    </tr>\n",
       "    <tr>\n",
       "      <th>2</th>\n",
       "      <td>88.6468</td>\n",
       "    </tr>\n",
       "    <tr>\n",
       "      <th>3</th>\n",
       "      <td>87.9803</td>\n",
       "    </tr>\n",
       "    <tr>\n",
       "      <th>4</th>\n",
       "      <td>87.3205</td>\n",
       "    </tr>\n",
       "    <tr>\n",
       "      <th>5</th>\n",
       "      <td>86.6673</td>\n",
       "    </tr>\n",
       "    <tr>\n",
       "      <th>6</th>\n",
       "      <td>86.0207</td>\n",
       "    </tr>\n",
       "    <tr>\n",
       "      <th>7</th>\n",
       "      <td>85.3804</td>\n",
       "    </tr>\n",
       "    <tr>\n",
       "      <th>8</th>\n",
       "      <td>84.7466</td>\n",
       "    </tr>\n",
       "    <tr>\n",
       "      <th>9</th>\n",
       "      <td>84.1192</td>\n",
       "    </tr>\n",
       "    <tr>\n",
       "      <th>10</th>\n",
       "      <td>83.498</td>\n",
       "    </tr>\n",
       "    <tr>\n",
       "      <th>11</th>\n",
       "      <td>82.883</td>\n",
       "    </tr>\n",
       "    <tr>\n",
       "      <th>12</th>\n",
       "      <td>82.2742</td>\n",
       "    </tr>\n",
       "    <tr>\n",
       "      <th>13</th>\n",
       "      <td>81.6714</td>\n",
       "    </tr>\n",
       "    <tr>\n",
       "      <th>14</th>\n",
       "      <td>81.0747</td>\n",
       "    </tr>\n",
       "    <tr>\n",
       "      <th>15</th>\n",
       "      <td>80.484</td>\n",
       "    </tr>\n",
       "    <tr>\n",
       "      <th>16</th>\n",
       "      <td>79.8991</td>\n",
       "    </tr>\n",
       "    <tr>\n",
       "      <th>17</th>\n",
       "      <td>79.3201</td>\n",
       "    </tr>\n",
       "    <tr>\n",
       "      <th>18</th>\n",
       "      <td>78.7469</td>\n",
       "    </tr>\n",
       "    <tr>\n",
       "      <th>19</th>\n",
       "      <td>78.1795</td>\n",
       "    </tr>\n",
       "    <tr>\n",
       "      <th>20</th>\n",
       "      <td>77.6177</td>\n",
       "    </tr>\n",
       "    <tr>\n",
       "      <th>21</th>\n",
       "      <td>77.0615</td>\n",
       "    </tr>\n",
       "    <tr>\n",
       "      <th>22</th>\n",
       "      <td>76.5109</td>\n",
       "    </tr>\n",
       "    <tr>\n",
       "      <th>23</th>\n",
       "      <td>75.9658</td>\n",
       "    </tr>\n",
       "    <tr>\n",
       "      <th>24</th>\n",
       "      <td>75.4261</td>\n",
       "    </tr>\n",
       "    <tr>\n",
       "      <th>25</th>\n",
       "      <td>74.8919</td>\n",
       "    </tr>\n",
       "    <tr>\n",
       "      <th>26</th>\n",
       "      <td>74.3629</td>\n",
       "    </tr>\n",
       "    <tr>\n",
       "      <th>27</th>\n",
       "      <td>73.8393</td>\n",
       "    </tr>\n",
       "    <tr>\n",
       "      <th>28</th>\n",
       "      <td>73.3209</td>\n",
       "    </tr>\n",
       "    <tr>\n",
       "      <th>29</th>\n",
       "      <td>72.8077</td>\n",
       "    </tr>\n",
       "    <tr>\n",
       "      <th>30</th>\n",
       "      <td>72.2996</td>\n",
       "    </tr>\n",
       "  </tbody>\n",
       "</table>\n",
       "</div>"
      ],
      "text/plain": [
       "          T\n",
       "0        90\n",
       "1     89.32\n",
       "2   88.6468\n",
       "3   87.9803\n",
       "4   87.3205\n",
       "5   86.6673\n",
       "6   86.0207\n",
       "7   85.3804\n",
       "8   84.7466\n",
       "9   84.1192\n",
       "10   83.498\n",
       "11   82.883\n",
       "12  82.2742\n",
       "13  81.6714\n",
       "14  81.0747\n",
       "15   80.484\n",
       "16  79.8991\n",
       "17  79.3201\n",
       "18  78.7469\n",
       "19  78.1795\n",
       "20  77.6177\n",
       "21  77.0615\n",
       "22  76.5109\n",
       "23  75.9658\n",
       "24  75.4261\n",
       "25  74.8919\n",
       "26  74.3629\n",
       "27  73.8393\n",
       "28  73.3209\n",
       "29  72.8077\n",
       "30  72.2996"
      ]
     },
     "execution_count": 7,
     "metadata": {},
     "output_type": "execute_result"
    }
   ],
   "source": [
    "results = run_simulation(coffee, update_func)"
   ]
  },
  {
   "cell_type": "markdown",
   "metadata": {},
   "source": [
    "Here's what the results look like."
   ]
  },
  {
   "cell_type": "code",
   "execution_count": 8,
   "metadata": {},
   "outputs": [
    {
     "data": {
      "image/png": "[encoded data removed]",
      "text/plain": [
       "<Figure size 432x288 with 1 Axes>"
      ]
     },
     "metadata": {},
     "output_type": "display_data"
    }
   ],
   "source": [
    "plot(results.T, label='coffee')\n",
    "decorate(xlabel='Time (minutes)',\n",
    "         ylabel='Temperature (C)')"
   ]
  },
  {
   "cell_type": "markdown",
   "metadata": {},
   "source": [
    "And here's the final temperature:"
   ]
  },
  {
   "cell_type": "code",
   "execution_count": 9,
   "metadata": {},
   "outputs": [
    {
     "data": {
      "text/plain": [
       "72.2996253904031"
      ]
     },
     "execution_count": 9,
     "metadata": {},
     "output_type": "execute_result"
    }
   ],
   "source": [
    "coffee.T_final = get_last_value(results.T)\n",
    "T_final = get_last_value(results.T)"
   ]
  },
  {
   "cell_type": "markdown",
   "metadata": {},
   "source": [
    "## Encapsulation\n",
    "\n",
    "Before we go on, let's define a function to initialize `System` objects with relevant parameters:"
   ]
  },
  {
   "cell_type": "code",
   "execution_count": 10,
   "metadata": {},
   "outputs": [],
   "source": [
    "def make_system(T_init, r, volume, t_end):\n",
    "    \"\"\"Makes a System object with the given parameters.\n",
    "\n",
    "    T_init: initial temperature in degC\n",
    "    r: heat transfer rate, in 1/min\n",
    "    volume: volume of liquid in mL\n",
    "    t_end: end time of simulation\n",
    "    \n",
    "    returns: System object\n",
    "    \"\"\"\n",
    "    init = State(T=T_init)\n",
    "                   \n",
    "    return System(init=init,\n",
    "                  r=r, \n",
    "                  volume=volume,\n",
    "                  temp=T_init,\n",
    "                  t_0=0, \n",
    "                  t_end=t_end, \n",
    "                  dt=1,\n",
    "                  T_env=22)"
   ]
  },
  {
   "cell_type": "markdown",
   "metadata": {},
   "source": [
    "Here's how we use it:"
   ]
  },
  {
   "cell_type": "code",
   "execution_count": 11,
   "metadata": {},
   "outputs": [
    {
     "data": {
      "text/plain": [
       "72.2996253904031"
      ]
     },
     "execution_count": 11,
     "metadata": {},
     "output_type": "execute_result"
    }
   ],
   "source": [
    "coffee = make_system(T_init=90, r=0.01, volume=300, t_end=30)\n",
    "results = run_simulation(coffee, update_func)\n",
    "T_final = get_last_value(results.T)"
   ]
  },
  {
   "cell_type": "markdown",
   "metadata": {},
   "source": [
    "## Exercises\n",
    "\n",
    "**Exercise:**  Simulate the temperature of 50 mL of milk with a starting temperature of 5 degC, in a vessel with the same insulation, for 15 minutes, and plot the results.\n",
    "\n",
    "By trial and error, find a value for `r` that makes the final temperature close to 20 C."
   ]
  },
  {
   "cell_type": "markdown",
   "metadata": {},
   "source": [
    "**Response:** Let's sweep the values of the constant `r` to determine a value that will bring us closest to the final temperature. The system object has been updated from coffee to milk to reflect the parameters of the prompt."
   ]
  },
  {
   "cell_type": "code",
   "execution_count": 34,
   "metadata": {},
   "outputs": [],
   "source": [
    "def sweep_constant(r_array):\n",
    "    \"\"\"Sweeps a range of values for the constant r.\n",
    "    \n",
    "    r_array: array of r values\n",
    "    \n",
    "    returns: Sweep object\n",
    "    \"\"\"\n",
    "    sweep = SweepSeries()\n",
    "    \n",
    "    for r in r_array:\n",
    "        milk = make_system(T_init=5, r=r, volume=50, t_end=15)\n",
    "        results = run_simulation(milk, update_func)\n",
    "        sweep[r] = get_last_value(results.T)\n",
    "        \n",
    "    return sweep"
   ]
  },
  {
   "cell_type": "code",
   "execution_count": 61,
   "metadata": {},
   "outputs": [
    {
     "data": {
      "text/html": [
       "<div>\n",
       "<style scoped>\n",
       "    .dataframe tbody tr th:only-of-type {\n",
       "        vertical-align: middle;\n",
       "    }\n",
       "\n",
       "    .dataframe tbody tr th {\n",
       "        vertical-align: top;\n",
       "    }\n",
       "\n",
       "    .dataframe thead th {\n",
       "        text-align: right;\n",
       "    }\n",
       "</style>\n",
       "<table border=\"1\" class=\"dataframe\">\n",
       "  <thead>\n",
       "    <tr style=\"text-align: right;\">\n",
       "      <th></th>\n",
       "      <th>values</th>\n",
       "    </tr>\n",
       "  </thead>\n",
       "  <tbody>\n",
       "    <tr>\n",
       "      <th>0.010000</th>\n",
       "      <td>7.379008</td>\n",
       "    </tr>\n",
       "    <tr>\n",
       "      <th>0.015918</th>\n",
       "      <td>8.636636</td>\n",
       "    </tr>\n",
       "    <tr>\n",
       "      <th>0.021837</th>\n",
       "      <td>9.792713</td>\n",
       "    </tr>\n",
       "    <tr>\n",
       "      <th>0.027755</th>\n",
       "      <td>10.854899</td>\n",
       "    </tr>\n",
       "    <tr>\n",
       "      <th>0.033673</th>\n",
       "      <td>11.830316</td>\n",
       "    </tr>\n",
       "    <tr>\n",
       "      <th>0.039592</th>\n",
       "      <td>12.725584</td>\n",
       "    </tr>\n",
       "    <tr>\n",
       "      <th>0.045510</th>\n",
       "      <td>13.546856</td>\n",
       "    </tr>\n",
       "    <tr>\n",
       "      <th>0.051429</th>\n",
       "      <td>14.299844</td>\n",
       "    </tr>\n",
       "    <tr>\n",
       "      <th>0.057347</th>\n",
       "      <td>14.989853</td>\n",
       "    </tr>\n",
       "    <tr>\n",
       "      <th>0.063265</th>\n",
       "      <td>15.621802</td>\n",
       "    </tr>\n",
       "    <tr>\n",
       "      <th>0.069184</th>\n",
       "      <td>16.200256</td>\n",
       "    </tr>\n",
       "    <tr>\n",
       "      <th>0.075102</th>\n",
       "      <td>16.729446</td>\n",
       "    </tr>\n",
       "    <tr>\n",
       "      <th>0.081020</th>\n",
       "      <td>17.213292</td>\n",
       "    </tr>\n",
       "    <tr>\n",
       "      <th>0.086939</th>\n",
       "      <td>17.655424</td>\n",
       "    </tr>\n",
       "    <tr>\n",
       "      <th>0.092857</th>\n",
       "      <td>18.059202</td>\n",
       "    </tr>\n",
       "    <tr>\n",
       "      <th>0.098776</th>\n",
       "      <td>18.427735</td>\n",
       "    </tr>\n",
       "    <tr>\n",
       "      <th>0.104694</th>\n",
       "      <td>18.763898</td>\n",
       "    </tr>\n",
       "    <tr>\n",
       "      <th>0.110612</th>\n",
       "      <td>19.070348</td>\n",
       "    </tr>\n",
       "    <tr>\n",
       "      <th>0.116531</th>\n",
       "      <td>19.349538</td>\n",
       "    </tr>\n",
       "    <tr>\n",
       "      <th>0.122449</th>\n",
       "      <td>19.603737</td>\n",
       "    </tr>\n",
       "    <tr>\n",
       "      <th>0.128367</th>\n",
       "      <td>19.835033</td>\n",
       "    </tr>\n",
       "    <tr>\n",
       "      <th>0.134286</th>\n",
       "      <td>20.045356</td>\n",
       "    </tr>\n",
       "    <tr>\n",
       "      <th>0.140204</th>\n",
       "      <td>20.236483</td>\n",
       "    </tr>\n",
       "    <tr>\n",
       "      <th>0.146122</th>\n",
       "      <td>20.410052</td>\n",
       "    </tr>\n",
       "    <tr>\n",
       "      <th>0.152041</th>\n",
       "      <td>20.567571</td>\n",
       "    </tr>\n",
       "    <tr>\n",
       "      <th>0.157959</th>\n",
       "      <td>20.710427</td>\n",
       "    </tr>\n",
       "    <tr>\n",
       "      <th>0.163878</th>\n",
       "      <td>20.839895</td>\n",
       "    </tr>\n",
       "    <tr>\n",
       "      <th>0.169796</th>\n",
       "      <td>20.957150</td>\n",
       "    </tr>\n",
       "    <tr>\n",
       "      <th>0.175714</th>\n",
       "      <td>21.063268</td>\n",
       "    </tr>\n",
       "    <tr>\n",
       "      <th>0.181633</th>\n",
       "      <td>21.159238</td>\n",
       "    </tr>\n",
       "    <tr>\n",
       "      <th>0.187551</th>\n",
       "      <td>21.245967</td>\n",
       "    </tr>\n",
       "    <tr>\n",
       "      <th>0.193469</th>\n",
       "      <td>21.324288</td>\n",
       "    </tr>\n",
       "    <tr>\n",
       "      <th>0.199388</th>\n",
       "      <td>21.394962</td>\n",
       "    </tr>\n",
       "    <tr>\n",
       "      <th>0.205306</th>\n",
       "      <td>21.458689</td>\n",
       "    </tr>\n",
       "    <tr>\n",
       "      <th>0.211224</th>\n",
       "      <td>21.516106</td>\n",
       "    </tr>\n",
       "    <tr>\n",
       "      <th>0.217143</th>\n",
       "      <td>21.567798</td>\n",
       "    </tr>\n",
       "    <tr>\n",
       "      <th>0.223061</th>\n",
       "      <td>21.614299</td>\n",
       "    </tr>\n",
       "    <tr>\n",
       "      <th>0.228980</th>\n",
       "      <td>21.656096</td>\n",
       "    </tr>\n",
       "    <tr>\n",
       "      <th>0.234898</th>\n",
       "      <td>21.693635</td>\n",
       "    </tr>\n",
       "    <tr>\n",
       "      <th>0.240816</th>\n",
       "      <td>21.727321</td>\n",
       "    </tr>\n",
       "    <tr>\n",
       "      <th>0.246735</th>\n",
       "      <td>21.757524</td>\n",
       "    </tr>\n",
       "    <tr>\n",
       "      <th>0.252653</th>\n",
       "      <td>21.784582</td>\n",
       "    </tr>\n",
       "    <tr>\n",
       "      <th>0.258571</th>\n",
       "      <td>21.808800</td>\n",
       "    </tr>\n",
       "    <tr>\n",
       "      <th>0.264490</th>\n",
       "      <td>21.830457</td>\n",
       "    </tr>\n",
       "    <tr>\n",
       "      <th>0.270408</th>\n",
       "      <td>21.849807</td>\n",
       "    </tr>\n",
       "    <tr>\n",
       "      <th>0.276327</th>\n",
       "      <td>21.867081</td>\n",
       "    </tr>\n",
       "    <tr>\n",
       "      <th>0.282245</th>\n",
       "      <td>21.882485</td>\n",
       "    </tr>\n",
       "    <tr>\n",
       "      <th>0.288163</th>\n",
       "      <td>21.896210</td>\n",
       "    </tr>\n",
       "    <tr>\n",
       "      <th>0.294082</th>\n",
       "      <td>21.908427</td>\n",
       "    </tr>\n",
       "    <tr>\n",
       "      <th>0.300000</th>\n",
       "      <td>21.919291</td>\n",
       "    </tr>\n",
       "  </tbody>\n",
       "</table>\n",
       "</div>"
      ],
      "text/plain": [
       "0.010000     7.379008\n",
       "0.015918     8.636636\n",
       "0.021837     9.792713\n",
       "0.027755    10.854899\n",
       "0.033673    11.830316\n",
       "0.039592    12.725584\n",
       "0.045510    13.546856\n",
       "0.051429    14.299844\n",
       "0.057347    14.989853\n",
       "0.063265    15.621802\n",
       "0.069184    16.200256\n",
       "0.075102    16.729446\n",
       "0.081020    17.213292\n",
       "0.086939    17.655424\n",
       "0.092857    18.059202\n",
       "0.098776    18.427735\n",
       "0.104694    18.763898\n",
       "0.110612    19.070348\n",
       "0.116531    19.349538\n",
       "0.122449    19.603737\n",
       "0.128367    19.835033\n",
       "0.134286    20.045356\n",
       "0.140204    20.236483\n",
       "0.146122    20.410052\n",
       "0.152041    20.567571\n",
       "0.157959    20.710427\n",
       "0.163878    20.839895\n",
       "0.169796    20.957150\n",
       "0.175714    21.063268\n",
       "0.181633    21.159238\n",
       "0.187551    21.245967\n",
       "0.193469    21.324288\n",
       "0.199388    21.394962\n",
       "0.205306    21.458689\n",
       "0.211224    21.516106\n",
       "0.217143    21.567798\n",
       "0.223061    21.614299\n",
       "0.228980    21.656096\n",
       "0.234898    21.693635\n",
       "0.240816    21.727321\n",
       "0.246735    21.757524\n",
       "0.252653    21.784582\n",
       "0.258571    21.808800\n",
       "0.264490    21.830457\n",
       "0.270408    21.849807\n",
       "0.276327    21.867081\n",
       "0.282245    21.882485\n",
       "0.288163    21.896210\n",
       "0.294082    21.908427\n",
       "0.300000    21.919291\n",
       "dtype: float64"
      ]
     },
     "execution_count": 61,
     "metadata": {},
     "output_type": "execute_result"
    }
   ],
   "source": [
    "# Sweep over guestimated range\n",
    "r_array = linspace(0.01, 0.3, 50)\n",
    "r_sweep = sweep_constant(r_array)"
   ]
  },
  {
   "cell_type": "code",
   "execution_count": 62,
   "metadata": {},
   "outputs": [
    {
     "data": {
      "image/png": "[encoded data removed]",
      "text/plain": [
       "<Figure size 432x288 with 1 Axes>"
      ]
     },
     "metadata": {},
     "output_type": "display_data"
    }
   ],
   "source": [
    "plot(r_sweep)\n",
    "plot([0, 0.3],[20,20], '--')\n",
    "\n",
    "decorate(xlabel='r, heat transfer rate',\n",
    "         ylabel='Final temparate',\n",
    "         title='Final temperature vs. heat transfer rate',\n",
    "         legend=False)"
   ]
  },
  {
   "cell_type": "markdown",
   "metadata": {},
   "source": [
    "#### From the plot above displaying the results of the sweep of `r`, we see that the values that bring us close to the final temperature of 20 C are between 0.10 and 0.15, so we can inspect the r_sweep results above to find the best `r` at this level of resolution."
   ]
  },
  {
   "cell_type": "code",
   "execution_count": 47,
   "metadata": {},
   "outputs": [
    {
     "data": {
      "text/plain": [
       "0.1536205"
      ]
     },
     "execution_count": 47,
     "metadata": {},
     "output_type": "execute_result"
    }
   ],
   "source": [
    "best_r = 0.134286"
   ]
  },
  {
   "cell_type": "markdown",
   "metadata": {},
   "source": [
    "#### Run the simulation with the best_r and plot it to confirm the results. "
   ]
  },
  {
   "cell_type": "code",
   "execution_count": 59,
   "metadata": {},
   "outputs": [
    {
     "data": {
      "text/plain": [
       "20.04536561823201"
      ]
     },
     "execution_count": 59,
     "metadata": {},
     "output_type": "execute_result"
    }
   ],
   "source": [
    "milk = make_system(T_init=5, r=0.134286, volume=50, t_end=15)\n",
    "results = run_simulation(milk, update_func)\n",
    "T_final = get_last_value(results.T)"
   ]
  },
  {
   "cell_type": "code",
   "execution_count": 60,
   "metadata": {},
   "outputs": [
    {
     "data": {
      "image/png": "[encoded data removed]",
      "text/plain": [
       "<Figure size 432x288 with 1 Axes>"
      ]
     },
     "metadata": {},
     "output_type": "display_data"
    }
   ],
   "source": [
    "plot(results.T, label='milk')\n",
    "plot([0, 15],[20,20], '--')\n",
    "decorate(xlabel='Time (minutes)',\n",
    "         ylabel='Temperature (C)')"
   ]
  }
 ],
 "metadata": {
  "kernelspec": {
   "display_name": "Python 3",
   "language": "python",
   "name": "python3"
  },
  "language_info": {
   "codemirror_mode": {
    "name": "ipython",
    "version": 3
   },
   "file_extension": ".py",
   "mimetype": "text/x-python",
   "name": "python",
   "nbconvert_exporter": "python",
   "pygments_lexer": "ipython3",
   "version": "3.7.7"
  }
 },
 "nbformat": 4,
 "nbformat_minor": 2
}
